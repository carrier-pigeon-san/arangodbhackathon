{
 "cells": [
  {
   "cell_type": "markdown",
   "metadata": {},
   "source": [
    "### Package Installation & setup"
   ]
  },
  {
   "cell_type": "code",
   "execution_count": 23,
   "metadata": {},
   "outputs": [],
   "source": [
    "import logging\n",
    "from arango import ArangoClient\n",
    "from arango_datasets import Datasets\n",
    "import networkx as nx\n",
    "import nx_arangodb as nxadb\n",
    "\n",
    "logging.basicConfig(level=logging.INFO, format=\"%(asctime)s - %(levelname)s - %(message)s\")"
   ]
  },
  {
   "cell_type": "markdown",
   "metadata": {},
   "source": [
    "### Database Connection"
   ]
  },
  {
   "cell_type": "code",
   "execution_count": 24,
   "metadata": {},
   "outputs": [
    {
     "name": "stderr",
     "output_type": "stream",
     "text": [
      "2025-03-09 12:15:54,060 - INFO - Connecting to ArangoDB...\n",
      "2025-03-09 12:15:54,080 - INFO - Connected to ArangoDB successfully.\n"
     ]
    }
   ],
   "source": [
    "logging.info(\"Connecting to ArangoDB...\")\n",
    "client = ArangoClient(hosts=\"https://80124153ae9b.arangodb.cloud:8529\")\n",
    "db = client.db(name=\"common_vulnerability_exposures\", username=\"root\", password=\"mhPu9jF87h237yeL0jJz\")\n",
    "logging.info(\"Connected to ArangoDB successfully.\")"
   ]
  },
  {
   "cell_type": "markdown",
   "metadata": {},
   "source": [
    "### Loading ArangoDB dataset into the database"
   ]
  },
  {
   "cell_type": "code",
   "execution_count": 25,
   "metadata": {},
   "outputs": [
    {
     "data": {
      "text/html": [
       "<pre style=\"white-space:pre;overflow-x:auto;line-height:normal;font-family:Menlo,'DejaVu Sans Mono',consolas,'Courier New',monospace\">/home/sandy_o/anaconda3/envs/hackathon_env/lib/python3.12/site-packages/rich/live.py:231: UserWarning: install \n",
       "\"ipywidgets\" for Jupyter support\n",
       "  warnings.warn('install \"ipywidgets\" for Jupyter support')\n",
       "</pre>\n"
      ],
      "text/plain": [
       "/home/sandy_o/anaconda3/envs/hackathon_env/lib/python3.12/site-packages/rich/live.py:231: UserWarning: install \n",
       "\"ipywidgets\" for Jupyter support\n",
       "  warnings.warn('install \"ipywidgets\" for Jupyter support')\n"
      ]
     },
     "metadata": {},
     "output_type": "display_data"
    },
    {
     "data": {
      "text/html": [
       "<pre style=\"white-space:pre;overflow-x:auto;line-height:normal;font-family:Menlo,'DejaVu Sans Mono',consolas,'Courier New',monospace\"></pre>\n"
      ],
      "text/plain": []
     },
     "metadata": {},
     "output_type": "display_data"
    },
    {
     "name": "stdout",
     "output_type": "stream",
     "text": [
      "CVE dataset is already loaded.\n"
     ]
    }
   ],
   "source": [
    "datasets = Datasets(db)\n",
    "\n",
    "dataset_name = \"CVE\"\n",
    "dataset_collections = [\"cve\", \"product\", \"product_cve\", \"product_vendor\", \"vendor\", \"vendor_cve\"]\n",
    "\n",
    "collections_in_db = set(db.has_collection(name) for name in dataset_collections)\n",
    "\n",
    "if all(collections_in_db):\n",
    "    print(f\"{dataset_name} dataset is already loaded.\")\n",
    "else:\n",
    "    print(f\"loading {dataset_name} dataset...\")\n",
    "    datasets.load(dataset_name)\n",
    "    print(f\"{dataset_name} dataset loaded successfully\")"
   ]
  },
  {
   "cell_type": "markdown",
   "metadata": {},
   "source": [
    "### Persisting ArangoDB graph to NetworkX"
   ]
  },
  {
   "cell_type": "code",
   "execution_count": 26,
   "metadata": {},
   "outputs": [
    {
     "name": "stderr",
     "output_type": "stream",
     "text": [
      "[12:15:59 +0300] [INFO]: Graph 'CVE' exists.\n",
      "2025-03-09 12:15:59,342 - INFO - Graph 'CVE' exists.\n",
      "[12:15:59 +0300] [INFO]: Default node type set to 'cve'\n",
      "2025-03-09 12:15:59,755 - INFO - Default node type set to 'cve'\n",
      "2025-03-09 12:16:00,813 - INFO - Graph 'CVE' initialized successfully.\n"
     ]
    }
   ],
   "source": [
    "graph_name = \"CVE\"\n",
    "\n",
    "try:\n",
    "    G = nxadb.Graph(name=graph_name, db=db)\n",
    "    logging.info(f\"Graph '{graph_name}' initialized successfully.\")\n",
    "except Exception as e:\n",
    "    logging.error(f\"An error occurred while initializing the graph: {e}\")"
   ]
  },
  {
   "cell_type": "code",
   "execution_count": 27,
   "metadata": {},
   "outputs": [
    {
     "name": "stderr",
     "output_type": "stream",
     "text": [
      "2025-03-09 12:16:02,891 - INFO - Graph 'CVE' has 145506 nodes and 316967 edges.\n"
     ]
    }
   ],
   "source": [
    "num_nodes = G.number_of_nodes()\n",
    "num_edges = G.number_of_edges()\n",
    "logging.info(f\"Graph '{graph_name}' has {num_nodes} nodes and {num_edges} edges.\")"
   ]
  }
 ],
 "metadata": {
  "kernelspec": {
   "display_name": "hackathon_env",
   "language": "python",
   "name": "python3"
  },
  "language_info": {
   "codemirror_mode": {
    "name": "ipython",
    "version": 3
   },
   "file_extension": ".py",
   "mimetype": "text/x-python",
   "name": "python",
   "nbconvert_exporter": "python",
   "pygments_lexer": "ipython3",
   "version": "3.12.3"
  }
 },
 "nbformat": 4,
 "nbformat_minor": 2
}
