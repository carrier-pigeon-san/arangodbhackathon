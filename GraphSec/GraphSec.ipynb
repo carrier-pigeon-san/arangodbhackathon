{
 "cells": [
  {
   "cell_type": "code",
   "execution_count": 18,
   "metadata": {},
   "outputs": [],
   "source": [
    "import logging\n",
    "from arango import ArangoClient\n",
    "from arango_datasets import Datasets\n",
    "import networkx as nx\n",
    "import nx_arangodb as nxadb\n",
    "\n",
    "logging.basicConfig(level=logging.INFO, format=\"%(asctime)s - %(levelname)s - %(message)s\")"
   ]
  },
  {
   "cell_type": "code",
   "execution_count": 19,
   "metadata": {},
   "outputs": [
    {
     "name": "stderr",
     "output_type": "stream",
     "text": [
      "2025-03-09 01:45:09,204 - INFO - Connecting to ArangoDB...\n",
      "2025-03-09 01:45:09,209 - INFO - Connected to ArangoDB successfully.\n"
     ]
    }
   ],
   "source": [
    "logging.info(\"Connecting to ArangoDB...\")\n",
    "client = ArangoClient(hosts=\"https://80124153ae9b.arangodb.cloud:8529\")\n",
    "db = client.db(name=\"common_vulnerability_exposures\", username=\"root\", password=\"mhPu9jF87h237yeL0jJz\")\n",
    "logging.info(\"Connected to ArangoDB successfully.\")"
   ]
  },
  {
   "cell_type": "code",
   "execution_count": 20,
   "metadata": {},
   "outputs": [
    {
     "data": {
      "text/html": [
       "<pre style=\"white-space:pre;overflow-x:auto;line-height:normal;font-family:Menlo,'DejaVu Sans Mono',consolas,'Courier New',monospace\">/home/sandy_o/anaconda3/envs/hackathon_env/lib/python3.12/site-packages/rich/live.py:231: UserWarning: install \n",
       "\"ipywidgets\" for Jupyter support\n",
       "  warnings.warn('install \"ipywidgets\" for Jupyter support')\n",
       "</pre>\n"
      ],
      "text/plain": [
       "/home/sandy_o/anaconda3/envs/hackathon_env/lib/python3.12/site-packages/rich/live.py:231: UserWarning: install \n",
       "\"ipywidgets\" for Jupyter support\n",
       "  warnings.warn('install \"ipywidgets\" for Jupyter support')\n"
      ]
     },
     "metadata": {},
     "output_type": "display_data"
    },
    {
     "data": {
      "text/html": [
       "<pre style=\"white-space:pre;overflow-x:auto;line-height:normal;font-family:Menlo,'DejaVu Sans Mono',consolas,'Courier New',monospace\"></pre>\n"
      ],
      "text/plain": []
     },
     "metadata": {},
     "output_type": "display_data"
    },
    {
     "name": "stdout",
     "output_type": "stream",
     "text": [
      "CVE dataset is already loaded.\n"
     ]
    }
   ],
   "source": [
    "datasets = Datasets(db)\n",
    "\n",
    "dataset_name = \"CVE\"\n",
    "dataset_collections = [\"cve\", \"product\", \"product_cve\", \"product_vendor\", \"vendor\", \"vendor_cve\"]\n",
    "\n",
    "collections_in_db = set(db.has_collection(name) for name in dataset_collections)\n",
    "\n",
    "if all(collections_in_db):\n",
    "    print(f\"{dataset_name} dataset is already loaded.\")\n",
    "else:\n",
    "    print(f\"loading {dataset_name} dataset...\")\n",
    "    datasets.load(dataset_name)\n",
    "    print(f\"{dataset_name} dataset loaded successfully\")"
   ]
  },
  {
   "cell_type": "code",
   "execution_count": 21,
   "metadata": {},
   "outputs": [
    {
     "name": "stderr",
     "output_type": "stream",
     "text": [
      "[01:45:16 +0300] [WARNING]: Database environment variables not set. Can't connect to the database\n",
      "2025-03-09 01:45:16,213 - WARNING - Database environment variables not set. Can't connect to the database\n",
      "2025-03-09 01:45:16,222 - ERROR - An error occurred while initializing the graph: Input is not a valid edge list\n"
     ]
    }
   ],
   "source": [
    "graph_name = \"CVE\"\n",
    "\n",
    "try:\n",
    "    G = nxadb.Graph(name=graph_name, db=db)\n",
    "    logging.info(f\"Graph '{graph_name}' initialized successfully.\")\n",
    "except Exception as e:\n",
    "    logging.error(f\"An error occurred while initializing the graph: {e}\")"
   ]
  },
  {
   "cell_type": "code",
   "execution_count": 22,
   "metadata": {},
   "outputs": [
    {
     "ename": "NameError",
     "evalue": "name 'G' is not defined",
     "output_type": "error",
     "traceback": [
      "\u001b[31m---------------------------------------------------------------------------\u001b[39m",
      "\u001b[31mNameError\u001b[39m                                 Traceback (most recent call last)",
      "\u001b[36mCell\u001b[39m\u001b[36m \u001b[39m\u001b[32mIn[22]\u001b[39m\u001b[32m, line 1\u001b[39m\n\u001b[32m----> \u001b[39m\u001b[32m1\u001b[39m num_nodes = \u001b[43mG\u001b[49m.number_of_nodes()\n\u001b[32m      2\u001b[39m num_edges = G.number_of_edges()\n\u001b[32m      3\u001b[39m logging.info(\u001b[33mf\u001b[39m\u001b[33m\"\u001b[39m\u001b[33mGraph \u001b[39m\u001b[33m'\u001b[39m\u001b[38;5;132;01m{\u001b[39;00mgraph_name\u001b[38;5;132;01m}\u001b[39;00m\u001b[33m'\u001b[39m\u001b[33m has \u001b[39m\u001b[38;5;132;01m{\u001b[39;00mnum_nodes\u001b[38;5;132;01m}\u001b[39;00m\u001b[33m nodes and \u001b[39m\u001b[38;5;132;01m{\u001b[39;00mnum_edges\u001b[38;5;132;01m}\u001b[39;00m\u001b[33m edges.\u001b[39m\u001b[33m\"\u001b[39m)\n",
      "\u001b[31mNameError\u001b[39m: name 'G' is not defined"
     ]
    }
   ],
   "source": [
    "num_nodes = G.number_of_nodes()\n",
    "num_edges = G.number_of_edges()\n",
    "logging.info(f\"Graph '{graph_name}' has {num_nodes} nodes and {num_edges} edges.\")"
   ]
  }
 ],
 "metadata": {
  "kernelspec": {
   "display_name": "hackathon_env",
   "language": "python",
   "name": "python3"
  },
  "language_info": {
   "codemirror_mode": {
    "name": "ipython",
    "version": 3
   },
   "file_extension": ".py",
   "mimetype": "text/x-python",
   "name": "python",
   "nbconvert_exporter": "python",
   "pygments_lexer": "ipython3",
   "version": "3.12.3"
  }
 },
 "nbformat": 4,
 "nbformat_minor": 2
}
